{
 "cells": [
  {
   "cell_type": "code",
   "execution_count": 1,
   "id": "b6f1262f",
   "metadata": {},
   "outputs": [
    {
     "name": "stderr",
     "output_type": "stream",
     "text": [
      "C:\\Users\\Jensen R\\AppData\\Local\\Temp\\ipykernel_19572\\1606746470.py:13: DtypeWarning: Columns (13,14,15,16,17,18,19,20,21,22,23) have mixed types. Specify dtype option on import or set low_memory=False.\n",
      "  train = pd.read_csv('D:/Purdue-MSBAIM/Module3/CCAC Competition/DIWBB_Training.csv')\n"
     ]
    }
   ],
   "source": [
    "import xgboost as xgb\n",
    "from sklearn.model_selection import train_test_split\n",
    "from sklearn.compose import ColumnTransformer\n",
    "from sklearn.pipeline import Pipeline\n",
    "from sklearn.impute import SimpleImputer\n",
    "from sklearn.preprocessing import OneHotEncoder,LabelEncoder\n",
    "import pandas as pd\n",
    "import numpy as np\n",
    "from sklearn.model_selection import cross_val_score, GridSearchCV\n",
    "from xgboost import XGBClassifier\n",
    "\n",
    "# Load your dataset\n",
    "train = pd.read_csv('D:/Purdue-MSBAIM/Module3/CCAC Competition/DIWBB_Training.csv')\n",
    "test = pd.read_csv('D:/Purdue-MSBAIM/Module3/CCAC Competition/DIWBB_Test.csv')\n",
    "\n"
   ]
  },
  {
   "cell_type": "code",
   "execution_count": 2,
   "id": "8dde7b49",
   "metadata": {},
   "outputs": [
    {
     "name": "stdout",
     "output_type": "stream",
     "text": [
      "Best hyperparameters:  {'model__learning_rate': 0.1, 'model__max_depth': 7, 'model__n_estimators': 200}\n",
      "Cross-validated scores:  [0.98736083 0.98695434 0.98724106 0.98817289 0.98707381]\n"
     ]
    }
   ],
   "source": [
    "# Convert datetime columns\n",
    "train['CustomerFirstWBBActionDate'] = pd.to_datetime(train['CustomerFirstWBBActionDate'])\n",
    "train['Year'] = train['CustomerFirstWBBActionDate'].dt.year\n",
    "train['Month'] = train['CustomerFirstWBBActionDate'].dt.month\n",
    "train['Day'] = train['CustomerFirstWBBActionDate'].dt.day\n",
    "train['DayOfWeek'] = train['CustomerFirstWBBActionDate'].dt.dayofweek\n",
    "\n",
    "# Drop columns that are less relevant or have a lot of unique values\n",
    "train.drop(columns=['RecordID', 'CustomerID'], inplace=True)\n",
    "\n",
    "# Define categorical and numerical columns\n",
    "categorical_cols = [col for col in train.columns if train[col].dtype == \"object\" and col != 'ActivityType']\n",
    "numerical_cols = [col for col in train.columns if train[col].dtype in ['int64', 'float64']]\n",
    "\n",
    "# Preprocessing for numerical and categorical data\n",
    "numerical_transformer = SimpleImputer(strategy='constant')\n",
    "categorical_transformer = Pipeline(steps=[\n",
    "    ('imputer', SimpleImputer(strategy='most_frequent')),\n",
    "    ('onehot', OneHotEncoder(handle_unknown='ignore'))\n",
    "])\n",
    "preprocessor = ColumnTransformer(\n",
    "    transformers=[\n",
    "        ('num', numerical_transformer, numerical_cols),\n",
    "        ('cat', categorical_transformer, categorical_cols)\n",
    "    ])\n",
    "\n",
    "# Encode the target variable\n",
    "label_encoder = LabelEncoder()\n",
    "y_encoded = label_encoder.fit_transform(train['ActivityType'])\n",
    "\n",
    "# Define the model\n",
    "model = XGBClassifier(use_label_encoder=False, eval_metric='mlogloss')\n",
    "\n",
    "# Create the preprocessing and modeling pipeline\n",
    "clf = Pipeline(steps=[('preprocessor', preprocessor),\n",
    "                      ('model', model)])\n",
    "\n",
    "# Split data into features and target\n",
    "X = train.drop('ActivityType', axis=1)\n",
    "y = y_encoded\n",
    "\n",
    "# Split data into train and validation sets\n",
    "X_train, X_valid, y_train, y_valid = train_test_split(X, y, test_size=0.2, random_state=0)\n",
    "\n",
    "# Hyperparameter tuning setup\n",
    "param_grid = {\n",
    "    'model__n_estimators': [100, 200],\n",
    "    'model__learning_rate': [0.01, 0.1],\n",
    "    'model__max_depth': [3, 5, 7]\n",
    "    # Add other parameters here\n",
    "}\n",
    "\n",
    "# Grid search with cross-validation\n",
    "grid_search = GridSearchCV(clf, param_grid, cv=5, scoring='accuracy', n_jobs=-1)\n",
    "grid_search.fit(X_train, y_train)\n",
    "\n",
    "# Best hyperparameters\n",
    "print(\"Best hyperparameters: \", grid_search.best_params_)\n",
    "\n",
    "# Model evaluation using cross-validation\n",
    "cv_scores = cross_val_score(grid_search.best_estimator_, X, y, cv=5, scoring='accuracy')\n",
    "print(\"Cross-validated scores: \", cv_scores)"
   ]
  },
  {
   "cell_type": "code",
   "execution_count": 3,
   "id": "eeb4be3f",
   "metadata": {},
   "outputs": [
    {
     "name": "stdout",
     "output_type": "stream",
     "text": [
      "Classification Report (Training Set):\n",
      "              precision    recall  f1-score   support\n",
      "\n",
      "           0       0.64      0.16      0.26       526\n",
      "           1       1.00      1.00      1.00    153001\n",
      "           2       0.94      0.17      0.29        87\n",
      "           3       0.92      0.97      0.95     10449\n",
      "           4       0.91      0.11      0.19       703\n",
      "           5       0.71      0.87      0.78      2646\n",
      "\n",
      "    accuracy                           0.99    167412\n",
      "   macro avg       0.85      0.55      0.58    167412\n",
      "weighted avg       0.99      0.99      0.99    167412\n",
      "\n",
      "Confusion Matrix (Training Set):\n",
      "[[    85      0      0    137      0    304]\n",
      " [     0 153001      0      0      0      0]\n",
      " [     1      0     15     29      1     41]\n",
      " [     7      0      0  10115      2    325]\n",
      " [     0      0      0    354     75    274]\n",
      " [    39      0      1    303      4   2299]]\n",
      "\n",
      "Classification Report (Validation Set):\n",
      "              precision    recall  f1-score   support\n",
      "\n",
      "           0       0.60      0.14      0.22       133\n",
      "           1       1.00      1.00      1.00     38310\n",
      "           2       0.80      0.19      0.31        21\n",
      "           3       0.92      0.96      0.94      2577\n",
      "           4       0.50      0.05      0.09       176\n",
      "           5       0.65      0.81      0.72       637\n",
      "\n",
      "    accuracy                           0.99     41854\n",
      "   macro avg       0.74      0.52      0.55     41854\n",
      "weighted avg       0.99      0.99      0.99     41854\n",
      "\n",
      "Confusion Matrix (Validation Set):\n",
      "[[   18     0     1    31     0    83]\n",
      " [    0 38310     0     0     0     0]\n",
      " [    0     0     4     6     1    10]\n",
      " [    4     0     0  2467     4   102]\n",
      " [    1     0     0    81     9    85]\n",
      " [    7     0     0   107     4   519]]\n"
     ]
    }
   ],
   "source": [
    "from sklearn.metrics import classification_report, confusion_matrix\n",
    "\n",
    "# Ensure to use the best estimator from the grid search for predictions\n",
    "best_model = grid_search.best_estimator_\n",
    "\n",
    "# Predict on the training set\n",
    "y_pred_train = best_model.predict(X_train)\n",
    "\n",
    "# Predict on the validation set\n",
    "y_pred_valid = best_model.predict(X_valid)\n",
    "\n",
    "# Evaluate the model on the training set\n",
    "print(\"Classification Report (Training Set):\")\n",
    "print(classification_report(y_train, y_pred_train))\n",
    "\n",
    "print(\"Confusion Matrix (Training Set):\")\n",
    "print(confusion_matrix(y_train, y_pred_train))\n",
    "\n",
    "# Evaluate the model on the validation set\n",
    "print(\"\\nClassification Report (Validation Set):\")\n",
    "print(classification_report(y_valid, y_pred_valid))\n",
    "\n",
    "print(\"Confusion Matrix (Validation Set):\")\n",
    "print(confusion_matrix(y_valid, y_pred_valid))"
   ]
  },
  {
   "cell_type": "code",
   "execution_count": 4,
   "id": "2ae69a78",
   "metadata": {},
   "outputs": [
    {
     "name": "stdout",
     "output_type": "stream",
     "text": [
      "Predictions saved to D:/Purdue-MSBAIM/Module3/CCAC Competition/test_predictions_XGB_new.csv\n"
     ]
    }
   ],
   "source": [
    "# Preprocess the test dataset\n",
    "test['CustomerFirstWBBActionDate'] = pd.to_datetime(test['CustomerFirstWBBActionDate'])\n",
    "test['Year'] = test['CustomerFirstWBBActionDate'].dt.year\n",
    "test['Month'] = test['CustomerFirstWBBActionDate'].dt.month\n",
    "test['Day'] = test['CustomerFirstWBBActionDate'].dt.day\n",
    "test['DayOfWeek'] = test['CustomerFirstWBBActionDate'].dt.dayofweek  # Add this line\n",
    "test.drop(columns=['RecordID', 'CustomerID', 'CustomerFirstWBBActionDate'], inplace=True)\n",
    "\n",
    "# Now apply the preprocessing and model pipeline to the test set\n",
    "# No need to manually apply the preprocessor as the pipeline handles it\n",
    "test_predictions_encoded = grid_search.best_estimator_.predict(test)\n",
    "\n",
    "# Inverse transform the predictions to get original labels\n",
    "test_predictions = label_encoder.inverse_transform(test_predictions_encoded)\n",
    "\n",
    "# Create a DataFrame for the predictions\n",
    "predictions_df = pd.DataFrame({'ActivityType_Predictions': test_predictions})\n",
    "\n",
    "# Save the predictions to a CSV file\n",
    "predictions_file_path = 'D:/Purdue-MSBAIM/Module3/CCAC Competition/test_predictions_XGB_new.csv'\n",
    "predictions_df.to_csv(predictions_file_path, index=False)\n",
    "\n",
    "print(f\"Predictions saved to {predictions_file_path}\")"
   ]
  }
 ],
 "metadata": {
  "kernelspec": {
   "display_name": "Python 3 (ipykernel)",
   "language": "python",
   "name": "python3"
  },
  "language_info": {
   "codemirror_mode": {
    "name": "ipython",
    "version": 3
   },
   "file_extension": ".py",
   "mimetype": "text/x-python",
   "name": "python",
   "nbconvert_exporter": "python",
   "pygments_lexer": "ipython3",
   "version": "3.11.4"
  }
 },
 "nbformat": 4,
 "nbformat_minor": 5
}
